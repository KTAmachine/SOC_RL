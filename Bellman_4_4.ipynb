{
  "nbformat": 4,
  "nbformat_minor": 0,
  "metadata": {
    "colab": {
      "provenance": []
    },
    "kernelspec": {
      "name": "python3",
      "display_name": "Python 3"
    },
    "language_info": {
      "name": "python"
    }
  },
  "cells": [
    {
      "cell_type": "code",
      "source": [
        "import numpy as np\n",
        "\n",
        "# Define the grid world\n",
        "grid_size = 4\n",
        "rewards = np.zeros((grid_size, grid_size))\n",
        "\n",
        "# Place reward pots at specified positions\n",
        "rewards[0, 0] = 10  # example reward at top-left corner\n",
        "rewards[3, 3] = 1   # example reward at bottom-right corner\n",
        "\n",
        "# Define actions (up, down, left, right)\n",
        "actions = ['U', 'D', 'L', 'R']\n",
        "\n",
        "# Define transition dynamics (deterministic)\n",
        "def transition(state, action):\n",
        "    i, j = state\n",
        "    if action == 'U':\n",
        "        return max(i - 1, 0), j\n",
        "    elif action == 'D':\n",
        "        return min(i + 1, grid_size - 1), j\n",
        "    elif action == 'L':\n",
        "        return i, max(j - 1, 0)\n",
        "    elif action == 'R':\n",
        "        return i, min(j + 1, grid_size - 1)\n"
      ],
      "metadata": {
        "id": "vV6zgsmAXVXG"
      },
      "execution_count": 24,
      "outputs": []
    },
    {
      "cell_type": "code",
      "source": [
        "# Initialize value function and policy\n",
        "value_function = np.zeros((grid_size, grid_size))\n",
        "policy = np.random.choice(actions, (grid_size, grid_size))\n",
        "\n",
        "# Define discount factor\n",
        "gamma = 0.9\n",
        "\n",
        "def policy_evaluation(policy, value_function, rewards, gamma=0.9, theta=1e-6):\n",
        "    while True:\n",
        "        delta = 0\n",
        "        for i in range(grid_size):\n",
        "            for j in range(grid_size):\n",
        "                v = value_function[i, j]\n",
        "                new_state = transition((i, j), policy[i, j])\n",
        "                value_function[i, j] = rewards[i, j] + gamma * value_function[new_state]\n",
        "                delta = max(delta, abs(v - value_function[i, j]))\n",
        "        if delta < theta:\n",
        "            break\n",
        "    return value_function\n",
        "\n",
        "def policy_improvement(value_function, rewards, gamma=0.9):\n",
        "    policy_stable = True\n",
        "    for i in range(grid_size):\n",
        "        for j in range(grid_size):\n",
        "            old_action = policy[i, j]\n",
        "            action_values = []\n",
        "            for action in actions:\n",
        "                new_state = transition((i, j), action)\n",
        "                action_values.append(rewards[i, j] + gamma * value_function[new_state])\n",
        "            best_action = actions[np.argmax(action_values)]\n",
        "            policy[i, j] = best_action\n",
        "            if old_action != best_action:\n",
        "                policy_stable = False\n",
        "    return policy, policy_stable\n",
        "\n",
        "def policy_iteration(policy, value_function, rewards, gamma=0.9):\n",
        "    while True:\n",
        "        value_function = policy_evaluation(policy, value_function, rewards, gamma)\n",
        "        policy, policy_stable = policy_improvement(value_function, rewards, gamma)\n",
        "        if policy_stable:\n",
        "            break\n",
        "    return policy, value_function\n",
        "\n",
        "# Perform policy iteration\n",
        "optimal_policy, optimal_value_function = policy_iteration(policy, value_function, rewards, gamma)\n"
      ],
      "metadata": {
        "id": "1qd39ngcXYnC"
      },
      "execution_count": 25,
      "outputs": []
    },
    {
      "cell_type": "code",
      "source": [
        "def display_policy(policy):\n",
        "    policy_symbols = {'U': '↑', 'D': '↓', 'L': '←', 'R': '→'}\n",
        "    for i in range(grid_size):\n",
        "        for j in range(grid_size):\n",
        "            print(policy_symbols[policy[i, j]], end=' ')\n",
        "        print()\n",
        "\n",
        "print(\"Optimal Policy:\")\n",
        "display_policy(optimal_policy)\n"
      ],
      "metadata": {
        "colab": {
          "base_uri": "https://localhost:8080/"
        },
        "id": "ebCSVm50XZ_S",
        "outputId": "5b1b3633-65a1-416b-f6ca-62d615e72876"
      },
      "execution_count": 26,
      "outputs": [
        {
          "output_type": "stream",
          "name": "stdout",
          "text": [
            "Optimal Policy:\n",
            "↑ ← ← ← \n",
            "↑ ↑ ↑ ↑ \n",
            "↑ ↑ ↑ ↑ \n",
            "↑ ↑ ↑ ↑ \n"
          ]
        }
      ]
    },
    {
      "cell_type": "code",
      "source": [
        "import matplotlib.pyplot as plt\n",
        "\n",
        "def visualize_path(policy, start=(0, 0), goal=(3, 3)):\n",
        "    path = [start]\n",
        "    current_state = start\n",
        "    visited = set()\n",
        "    while current_state != goal:\n",
        "        if current_state in visited:\n",
        "            print(\"Loop detected! Terminating path visualization.\")\n",
        "            break\n",
        "        visited.add(current_state)\n",
        "        current_state = transition(current_state, policy[current_state])\n",
        "        path.append(current_state)\n",
        "    return path\n",
        "\n",
        "path = visualize_path(optimal_policy)\n",
        "\n",
        "# Visualize the grid world and the path taken by the agent\n",
        "fig, ax = plt.subplots()\n",
        "ax.set_xlim(-0.5, grid_size - 0.5)\n",
        "ax.set_ylim(-0.5, grid_size - 0.5)\n",
        "ax.set_xticks(np.arange(-0.5, grid_size, 1))\n",
        "ax.set_yticks(np.arange(-0.5, grid_size, 1))\n",
        "ax.set_xticklabels([])\n",
        "ax.set_yticklabels([])\n",
        "ax.grid(True)\n",
        "\n",
        "for i in range(grid_size):\n",
        "    for j in range(grid_size):\n",
        "        ax.text(j, i, f\"{optimal_policy[i, j]}\\n{optimal_value_function[i, j]:.2f}\", ha='center', va='center')\n",
        "\n",
        "path_x, path_y = zip(*path)\n",
        "ax.plot(path_y, path_x, 'ro-')  # path\n",
        "\n",
        "plt.show()\n"
      ],
      "metadata": {
        "colab": {
          "base_uri": "https://localhost:8080/",
          "height": 428
        },
        "id": "Klvc2KXKXc_Y",
        "outputId": "92eba178-a63d-4e75-d78b-2deafd9005fb"
      },
      "execution_count": 27,
      "outputs": [
        {
          "output_type": "stream",
          "name": "stdout",
          "text": [
            "Loop detected! Terminating path visualization.\n"
          ]
        },
        {
          "output_type": "display_data",
          "data": {
            "text/plain": [
              "<Figure size 640x480 with 1 Axes>"
            ],
            "image/png": "[encoded data removed]"
          },
          "metadata": {}
        }
      ]
    }
  ]
}