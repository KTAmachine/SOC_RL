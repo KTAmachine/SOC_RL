{
  "nbformat": 4,
  "nbformat_minor": 0,
  "metadata": {
    "colab": {
      "provenance": []
    },
    "kernelspec": {
      "name": "python3",
      "display_name": "Python 3"
    },
    "language_info": {
      "name": "python"
    }
  },
  "cells": [
    {
      "cell_type": "code",
      "source": [
        "import numpy as np\n"
      ],
      "metadata": {
        "id": "kVUVEp2laHQ6"
      },
      "execution_count": 7,
      "outputs": []
    },
    {
      "cell_type": "code",
      "source": [
        "import numpy as np\n",
        "\n",
        "ACTION_SPACE = ('U', 'D', 'L', 'R')\n",
        "\n",
        "class Grid:  # Environment\n",
        "    def __init__(self, rows, cols, start):\n",
        "        self.rows = rows\n",
        "        self.cols = cols\n",
        "        self.i = start[0]\n",
        "        self.j = start[1]\n",
        "\n",
        "    def set_state(self, s):\n",
        "        self.i = s[0]\n",
        "        self.j = s[1]\n",
        "\n",
        "    def current_state(self):\n",
        "        return (self.i, self.j)\n",
        "\n",
        "    def is_terminal(self, s):\n",
        "        return s == (self.rows - 1, self.cols - 1)\n",
        "\n",
        "    def move(self, action):\n",
        "        if action in ACTION_SPACE:\n",
        "            if action == 'U':\n",
        "                self.i = max(0, self.i - 1)\n",
        "            elif action == 'D':\n",
        "                self.i = min(self.rows - 1, self.i + 1)\n",
        "            elif action == 'L':\n",
        "                self.j = max(0, self.j - 1)\n",
        "            elif action == 'R':\n",
        "                self.j = min(self.cols - 1, self.j + 1)\n",
        "        return self.current_state()\n",
        "\n",
        "    def all_states(self):\n",
        "        return [(i, j) for i in range(self.rows) for j in range(self.cols)]\n",
        "\n",
        "def print_values(V, g):\n",
        "    for i in range(g.rows):\n",
        "        print(\"---------------------------\")\n",
        "        for j in range(g.cols):\n",
        "            v = V.get((i, j), 0)\n",
        "            if v >= 0:\n",
        "                print(f\" {v:.2f} \", end=\" \")\n",
        "            else:\n",
        "                print(f\"{v:.2f} \", end=\" \")  # negative sign takes an extra space\n",
        "        print(\"\")\n",
        "\n",
        "def print_policy(P, g):\n",
        "    for i in range(g.rows):\n",
        "        print(\"---------------------------\")\n",
        "        for j in range(g.cols):\n",
        "            a = P.get((i, j), ' ')\n",
        "            print(f\"  {a}  \", end=\" \")\n",
        "        print(\"\")\n",
        "\n",
        "def iterative_policy_evaluation(grid, policy, gamma=1.0, theta=1e-4):\n",
        "    # Initialize V(s) = 0 for all states\n",
        "    V = {}\n",
        "    for s in grid.all_states():\n",
        "        V[s] = 0\n",
        "\n",
        "    while True:\n",
        "        delta = 0\n",
        "        for s in grid.all_states():\n",
        "            if not grid.is_terminal(s):\n",
        "                old_v = V[s]\n",
        "                new_v = 0\n",
        "                for a in ACTION_SPACE:\n",
        "                    grid.set_state(s)\n",
        "                    r = -1  # assuming a reward of -1 for each action\n",
        "                    new_state = grid.move(a)\n",
        "                    new_v += 0.25 * (r + gamma * V[new_state])  # assuming equal probability for all actions\n",
        "                V[s] = new_v\n",
        "                delta = max(delta, np.abs(old_v - V[s]))\n",
        "        if delta < theta:\n",
        "            break\n",
        "    return V\n",
        "\n",
        "if __name__ == \"__main__\":\n",
        "    grid = Grid(5, 5, (0, 0))\n",
        "\n",
        "    # Define a random policy where each action has an equal probability\n",
        "    policy = {}\n",
        "    for s in grid.all_states():\n",
        "        policy[s] = np.random.choice(ACTION_SPACE)\n",
        "\n",
        "    # Evaluate the policy\n",
        "    V = iterative_policy_evaluation(grid, policy)\n",
        "\n",
        "    # Print the value function\n",
        "    print(\"Value function:\")\n",
        "    print_values(V, grid)\n",
        "\n",
        "    # Print the policy\n",
        "    print(\"Policy:\")\n",
        "    print_policy(policy, grid)\n"
      ],
      "metadata": {
        "colab": {
          "base_uri": "https://localhost:8080/"
        },
        "id": "LF7kbAhZl17l",
        "outputId": "9d87566a-22f9-42f5-a088-c36e710c9fd3"
      },
      "execution_count": 8,
      "outputs": [
        {
          "output_type": "stream",
          "name": "stdout",
          "text": [
            "Value function:\n",
            "---------------------------\n",
            "-106.81  -104.81  -101.37  -97.62  -95.07  \n",
            "---------------------------\n",
            "-104.81  -102.25  -97.69  -92.40  -88.53  \n",
            "---------------------------\n",
            "-101.37  -97.69  -90.74  -81.78  -74.10  \n",
            "---------------------------\n",
            "-97.62  -92.40  -81.78  -65.89  -48.00  \n",
            "---------------------------\n",
            "-95.07  -88.53  -74.10  -48.00   0.00  \n",
            "Policy:\n",
            "---------------------------\n",
            "  R     D     D     U     R   \n",
            "---------------------------\n",
            "  R     D     L     L     R   \n",
            "---------------------------\n",
            "  D     U     R     D     R   \n",
            "---------------------------\n",
            "  U     L     D     R     D   \n",
            "---------------------------\n",
            "  R     R     D     L     U   \n"
          ]
        }
      ]
    },
    {
      "cell_type": "code",
      "source": [],
      "metadata": {
        "id": "HnTt9Bbalw9A"
      },
      "execution_count": null,
      "outputs": []
    },
    {
      "cell_type": "code",
      "source": [],
      "metadata": {
        "id": "_Quu6m-1b8rU"
      },
      "execution_count": null,
      "outputs": []
    }
  ]
}